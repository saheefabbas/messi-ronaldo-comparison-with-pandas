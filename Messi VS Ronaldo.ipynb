{
 "cells": [
  {
   "cell_type": "markdown",
   "id": "e687963b",
   "metadata": {},
   "source": [
    "# Messi & Ronaldo - Comparison"
   ]
  },
  {
   "cell_type": "code",
   "execution_count": 1,
   "id": "917dd9fd",
   "metadata": {},
   "outputs": [],
   "source": [
    "import pandas as pd"
   ]
  },
  {
   "cell_type": "code",
   "execution_count": 4,
   "id": "9bbb8583",
   "metadata": {},
   "outputs": [],
   "source": [
    "df = pd.read_csv('MessiRonaldo.csv')"
   ]
  },
  {
   "cell_type": "code",
   "execution_count": 10,
   "id": "b1826d97",
   "metadata": {},
   "outputs": [
    {
     "data": {
      "text/html": [
       "<div>\n",
       "<style scoped>\n",
       "    .dataframe tbody tr th:only-of-type {\n",
       "        vertical-align: middle;\n",
       "    }\n",
       "\n",
       "    .dataframe tbody tr th {\n",
       "        vertical-align: top;\n",
       "    }\n",
       "\n",
       "    .dataframe thead th {\n",
       "        text-align: right;\n",
       "    }\n",
       "</style>\n",
       "<table border=\"1\" class=\"dataframe\">\n",
       "  <thead>\n",
       "    <tr style=\"text-align: right;\">\n",
       "      <th></th>\n",
       "      <th>Season</th>\n",
       "      <th>Player</th>\n",
       "      <th>Liga_Goals</th>\n",
       "      <th>Liga_Asts</th>\n",
       "      <th>Liga_Aps</th>\n",
       "      <th>Liga_Mins</th>\n",
       "      <th>CL_Goals</th>\n",
       "      <th>CL_Asts</th>\n",
       "      <th>CL_Aps</th>\n",
       "      <th>CL_Mins</th>\n",
       "    </tr>\n",
       "  </thead>\n",
       "  <tbody>\n",
       "    <tr>\n",
       "      <th>0</th>\n",
       "      <td>2017-18</td>\n",
       "      <td>Messi</td>\n",
       "      <td>34</td>\n",
       "      <td>12</td>\n",
       "      <td>36</td>\n",
       "      <td>2996</td>\n",
       "      <td>6</td>\n",
       "      <td>2</td>\n",
       "      <td>10</td>\n",
       "      <td>783</td>\n",
       "    </tr>\n",
       "    <tr>\n",
       "      <th>1</th>\n",
       "      <td>2017-18</td>\n",
       "      <td>Ronaldo</td>\n",
       "      <td>26</td>\n",
       "      <td>5</td>\n",
       "      <td>27</td>\n",
       "      <td>2297</td>\n",
       "      <td>15</td>\n",
       "      <td>3</td>\n",
       "      <td>13</td>\n",
       "      <td>1170</td>\n",
       "    </tr>\n",
       "    <tr>\n",
       "      <th>2</th>\n",
       "      <td>2016-17</td>\n",
       "      <td>Messi</td>\n",
       "      <td>37</td>\n",
       "      <td>9</td>\n",
       "      <td>34</td>\n",
       "      <td>2832</td>\n",
       "      <td>11</td>\n",
       "      <td>2</td>\n",
       "      <td>9</td>\n",
       "      <td>810</td>\n",
       "    </tr>\n",
       "    <tr>\n",
       "      <th>3</th>\n",
       "      <td>2016-17</td>\n",
       "      <td>Ronaldo</td>\n",
       "      <td>25</td>\n",
       "      <td>6</td>\n",
       "      <td>29</td>\n",
       "      <td>2544</td>\n",
       "      <td>12</td>\n",
       "      <td>5</td>\n",
       "      <td>13</td>\n",
       "      <td>1200</td>\n",
       "    </tr>\n",
       "    <tr>\n",
       "      <th>4</th>\n",
       "      <td>2015-16</td>\n",
       "      <td>Messi</td>\n",
       "      <td>26</td>\n",
       "      <td>16</td>\n",
       "      <td>33</td>\n",
       "      <td>2729</td>\n",
       "      <td>6</td>\n",
       "      <td>1</td>\n",
       "      <td>7</td>\n",
       "      <td>630</td>\n",
       "    </tr>\n",
       "  </tbody>\n",
       "</table>\n",
       "</div>"
      ],
      "text/plain": [
       "    Season   Player  Liga_Goals  Liga_Asts  Liga_Aps  Liga_Mins  CL_Goals  \\\n",
       "0  2017-18    Messi          34         12        36       2996         6   \n",
       "1  2017-18  Ronaldo          26          5        27       2297        15   \n",
       "2  2016-17    Messi          37          9        34       2832        11   \n",
       "3  2016-17  Ronaldo          25          6        29       2544        12   \n",
       "4  2015-16    Messi          26         16        33       2729         6   \n",
       "\n",
       "   CL_Asts  CL_Aps  CL_Mins  \n",
       "0        2      10      783  \n",
       "1        3      13     1170  \n",
       "2        2       9      810  \n",
       "3        5      13     1200  \n",
       "4        1       7      630  "
      ]
     },
     "execution_count": 10,
     "metadata": {},
     "output_type": "execute_result"
    }
   ],
   "source": [
    "#  .head() is used to get top 5 rows\n",
    "df.head()"
   ]
  },
  {
   "cell_type": "code",
   "execution_count": 12,
   "id": "917b720d",
   "metadata": {},
   "outputs": [
    {
     "data": {
      "text/html": [
       "<div>\n",
       "<style scoped>\n",
       "    .dataframe tbody tr th:only-of-type {\n",
       "        vertical-align: middle;\n",
       "    }\n",
       "\n",
       "    .dataframe tbody tr th {\n",
       "        vertical-align: top;\n",
       "    }\n",
       "\n",
       "    .dataframe thead th {\n",
       "        text-align: right;\n",
       "    }\n",
       "</style>\n",
       "<table border=\"1\" class=\"dataframe\">\n",
       "  <thead>\n",
       "    <tr style=\"text-align: right;\">\n",
       "      <th></th>\n",
       "      <th>Season</th>\n",
       "      <th>Player</th>\n",
       "      <th>Liga_Goals</th>\n",
       "      <th>Liga_Asts</th>\n",
       "      <th>Liga_Aps</th>\n",
       "      <th>Liga_Mins</th>\n",
       "      <th>CL_Goals</th>\n",
       "      <th>CL_Asts</th>\n",
       "      <th>CL_Aps</th>\n",
       "      <th>CL_Mins</th>\n",
       "    </tr>\n",
       "  </thead>\n",
       "  <tbody>\n",
       "    <tr>\n",
       "      <th>0</th>\n",
       "      <td>2017-18</td>\n",
       "      <td>Messi</td>\n",
       "      <td>34</td>\n",
       "      <td>12</td>\n",
       "      <td>36</td>\n",
       "      <td>2996</td>\n",
       "      <td>6</td>\n",
       "      <td>2</td>\n",
       "      <td>10</td>\n",
       "      <td>783</td>\n",
       "    </tr>\n",
       "    <tr>\n",
       "      <th>1</th>\n",
       "      <td>2017-18</td>\n",
       "      <td>Ronaldo</td>\n",
       "      <td>26</td>\n",
       "      <td>5</td>\n",
       "      <td>27</td>\n",
       "      <td>2297</td>\n",
       "      <td>15</td>\n",
       "      <td>3</td>\n",
       "      <td>13</td>\n",
       "      <td>1170</td>\n",
       "    </tr>\n",
       "  </tbody>\n",
       "</table>\n",
       "</div>"
      ],
      "text/plain": [
       "    Season   Player  Liga_Goals  Liga_Asts  Liga_Aps  Liga_Mins  CL_Goals  \\\n",
       "0  2017-18    Messi          34         12        36       2996         6   \n",
       "1  2017-18  Ronaldo          26          5        27       2297        15   \n",
       "\n",
       "   CL_Asts  CL_Aps  CL_Mins  \n",
       "0        2      10      783  \n",
       "1        3      13     1170  "
      ]
     },
     "execution_count": 12,
     "metadata": {},
     "output_type": "execute_result"
    }
   ],
   "source": [
    "#  .head() can also take parameters in order to find specific numbers of rows i-e 2\n",
    "df.head(2)"
   ]
  },
  {
   "cell_type": "code",
   "execution_count": 9,
   "id": "5392f4e0",
   "metadata": {},
   "outputs": [
    {
     "data": {
      "text/html": [
       "<div>\n",
       "<style scoped>\n",
       "    .dataframe tbody tr th:only-of-type {\n",
       "        vertical-align: middle;\n",
       "    }\n",
       "\n",
       "    .dataframe tbody tr th {\n",
       "        vertical-align: top;\n",
       "    }\n",
       "\n",
       "    .dataframe thead th {\n",
       "        text-align: right;\n",
       "    }\n",
       "</style>\n",
       "<table border=\"1\" class=\"dataframe\">\n",
       "  <thead>\n",
       "    <tr style=\"text-align: right;\">\n",
       "      <th></th>\n",
       "      <th>Season</th>\n",
       "      <th>Player</th>\n",
       "      <th>Liga_Goals</th>\n",
       "      <th>Liga_Asts</th>\n",
       "      <th>Liga_Aps</th>\n",
       "      <th>Liga_Mins</th>\n",
       "      <th>CL_Goals</th>\n",
       "      <th>CL_Asts</th>\n",
       "      <th>CL_Aps</th>\n",
       "      <th>CL_Mins</th>\n",
       "    </tr>\n",
       "  </thead>\n",
       "  <tbody>\n",
       "    <tr>\n",
       "      <th>13</th>\n",
       "      <td>2011-12</td>\n",
       "      <td>Ronaldo</td>\n",
       "      <td>46</td>\n",
       "      <td>13</td>\n",
       "      <td>38</td>\n",
       "      <td>3353</td>\n",
       "      <td>10</td>\n",
       "      <td>4</td>\n",
       "      <td>10</td>\n",
       "      <td>930</td>\n",
       "    </tr>\n",
       "    <tr>\n",
       "      <th>14</th>\n",
       "      <td>2010-11</td>\n",
       "      <td>Messi</td>\n",
       "      <td>31</td>\n",
       "      <td>21</td>\n",
       "      <td>33</td>\n",
       "      <td>2862</td>\n",
       "      <td>12</td>\n",
       "      <td>4</td>\n",
       "      <td>13</td>\n",
       "      <td>1050</td>\n",
       "    </tr>\n",
       "    <tr>\n",
       "      <th>15</th>\n",
       "      <td>2010-11</td>\n",
       "      <td>Ronaldo</td>\n",
       "      <td>40</td>\n",
       "      <td>13</td>\n",
       "      <td>34</td>\n",
       "      <td>2914</td>\n",
       "      <td>6</td>\n",
       "      <td>4</td>\n",
       "      <td>12</td>\n",
       "      <td>1018</td>\n",
       "    </tr>\n",
       "    <tr>\n",
       "      <th>16</th>\n",
       "      <td>2009-10</td>\n",
       "      <td>Messi</td>\n",
       "      <td>34</td>\n",
       "      <td>13</td>\n",
       "      <td>35</td>\n",
       "      <td>2841</td>\n",
       "      <td>8</td>\n",
       "      <td>0</td>\n",
       "      <td>11</td>\n",
       "      <td>985</td>\n",
       "    </tr>\n",
       "    <tr>\n",
       "      <th>17</th>\n",
       "      <td>2009-10</td>\n",
       "      <td>Ronaldo</td>\n",
       "      <td>26</td>\n",
       "      <td>11</td>\n",
       "      <td>29</td>\n",
       "      <td>2462</td>\n",
       "      <td>7</td>\n",
       "      <td>2</td>\n",
       "      <td>6</td>\n",
       "      <td>450</td>\n",
       "    </tr>\n",
       "  </tbody>\n",
       "</table>\n",
       "</div>"
      ],
      "text/plain": [
       "     Season   Player  Liga_Goals  Liga_Asts  Liga_Aps  Liga_Mins  CL_Goals  \\\n",
       "13  2011-12  Ronaldo          46         13        38       3353        10   \n",
       "14  2010-11    Messi          31         21        33       2862        12   \n",
       "15  2010-11  Ronaldo          40         13        34       2914         6   \n",
       "16  2009-10    Messi          34         13        35       2841         8   \n",
       "17  2009-10  Ronaldo          26         11        29       2462         7   \n",
       "\n",
       "    CL_Asts  CL_Aps  CL_Mins  \n",
       "13        4      10      930  \n",
       "14        4      13     1050  \n",
       "15        4      12     1018  \n",
       "16        0      11      985  \n",
       "17        2       6      450  "
      ]
     },
     "execution_count": 9,
     "metadata": {},
     "output_type": "execute_result"
    }
   ],
   "source": [
    "#  .tail() is used to get last 5 rows\n",
    "df.tail()"
   ]
  },
  {
   "cell_type": "code",
   "execution_count": 11,
   "id": "89d6fc5d",
   "metadata": {},
   "outputs": [
    {
     "data": {
      "text/html": [
       "<div>\n",
       "<style scoped>\n",
       "    .dataframe tbody tr th:only-of-type {\n",
       "        vertical-align: middle;\n",
       "    }\n",
       "\n",
       "    .dataframe tbody tr th {\n",
       "        vertical-align: top;\n",
       "    }\n",
       "\n",
       "    .dataframe thead th {\n",
       "        text-align: right;\n",
       "    }\n",
       "</style>\n",
       "<table border=\"1\" class=\"dataframe\">\n",
       "  <thead>\n",
       "    <tr style=\"text-align: right;\">\n",
       "      <th></th>\n",
       "      <th>Season</th>\n",
       "      <th>Player</th>\n",
       "      <th>Liga_Goals</th>\n",
       "      <th>Liga_Asts</th>\n",
       "      <th>Liga_Aps</th>\n",
       "      <th>Liga_Mins</th>\n",
       "      <th>CL_Goals</th>\n",
       "      <th>CL_Asts</th>\n",
       "      <th>CL_Aps</th>\n",
       "      <th>CL_Mins</th>\n",
       "    </tr>\n",
       "  </thead>\n",
       "  <tbody>\n",
       "    <tr>\n",
       "      <th>16</th>\n",
       "      <td>2009-10</td>\n",
       "      <td>Messi</td>\n",
       "      <td>34</td>\n",
       "      <td>13</td>\n",
       "      <td>35</td>\n",
       "      <td>2841</td>\n",
       "      <td>8</td>\n",
       "      <td>0</td>\n",
       "      <td>11</td>\n",
       "      <td>985</td>\n",
       "    </tr>\n",
       "    <tr>\n",
       "      <th>17</th>\n",
       "      <td>2009-10</td>\n",
       "      <td>Ronaldo</td>\n",
       "      <td>26</td>\n",
       "      <td>11</td>\n",
       "      <td>29</td>\n",
       "      <td>2462</td>\n",
       "      <td>7</td>\n",
       "      <td>2</td>\n",
       "      <td>6</td>\n",
       "      <td>450</td>\n",
       "    </tr>\n",
       "  </tbody>\n",
       "</table>\n",
       "</div>"
      ],
      "text/plain": [
       "     Season   Player  Liga_Goals  Liga_Asts  Liga_Aps  Liga_Mins  CL_Goals  \\\n",
       "16  2009-10    Messi          34         13        35       2841         8   \n",
       "17  2009-10  Ronaldo          26         11        29       2462         7   \n",
       "\n",
       "    CL_Asts  CL_Aps  CL_Mins  \n",
       "16        0      11      985  \n",
       "17        2       6      450  "
      ]
     },
     "execution_count": 11,
     "metadata": {},
     "output_type": "execute_result"
    }
   ],
   "source": [
    "#  .tail() can accept parameters in order to return specific number of rows i-e 2\n",
    "df.tail(2)"
   ]
  },
  {
   "cell_type": "code",
   "execution_count": 14,
   "id": "11dce120",
   "metadata": {},
   "outputs": [
    {
     "name": "stdout",
     "output_type": "stream",
     "text": [
      "<class 'pandas.core.frame.DataFrame'>\n",
      "RangeIndex: 18 entries, 0 to 17\n",
      "Data columns (total 10 columns):\n",
      " #   Column      Non-Null Count  Dtype \n",
      "---  ------      --------------  ----- \n",
      " 0   Season      18 non-null     object\n",
      " 1   Player      18 non-null     object\n",
      " 2   Liga_Goals  18 non-null     int64 \n",
      " 3   Liga_Asts   18 non-null     int64 \n",
      " 4   Liga_Aps    18 non-null     int64 \n",
      " 5   Liga_Mins   18 non-null     int64 \n",
      " 6   CL_Goals    18 non-null     int64 \n",
      " 7   CL_Asts     18 non-null     int64 \n",
      " 8   CL_Aps      18 non-null     int64 \n",
      " 9   CL_Mins     18 non-null     int64 \n",
      "dtypes: int64(8), object(2)\n",
      "memory usage: 1.5+ KB\n"
     ]
    }
   ],
   "source": [
    "#  .info() gives the general information about the dataset.\n",
    "df.info()"
   ]
  },
  {
   "cell_type": "code",
   "execution_count": 16,
   "id": "80db9d0d",
   "metadata": {},
   "outputs": [
    {
     "data": {
      "text/plain": [
       "(18, 10)"
      ]
     },
     "execution_count": 16,
     "metadata": {},
     "output_type": "execute_result"
    }
   ],
   "source": [
    "#  .shape returns the total number of ROWS and COLUMNS in a dataset\n",
    "df.shape"
   ]
  },
  {
   "cell_type": "code",
   "execution_count": 18,
   "id": "700c1e42",
   "metadata": {},
   "outputs": [
    {
     "data": {
      "text/plain": [
       "Season        object\n",
       "Player        object\n",
       "Liga_Goals     int64\n",
       "Liga_Asts      int64\n",
       "Liga_Aps       int64\n",
       "Liga_Mins      int64\n",
       "CL_Goals       int64\n",
       "CL_Asts        int64\n",
       "CL_Aps         int64\n",
       "CL_Mins        int64\n",
       "dtype: object"
      ]
     },
     "execution_count": 18,
     "metadata": {},
     "output_type": "execute_result"
    }
   ],
   "source": [
    "#  .dtypes returns the DATA TYPE of the values stored in each column\n",
    "df.dtypes"
   ]
  },
  {
   "cell_type": "code",
   "execution_count": 19,
   "id": "2126124c",
   "metadata": {},
   "outputs": [
    {
     "data": {
      "text/html": [
       "<div>\n",
       "<style scoped>\n",
       "    .dataframe tbody tr th:only-of-type {\n",
       "        vertical-align: middle;\n",
       "    }\n",
       "\n",
       "    .dataframe tbody tr th {\n",
       "        vertical-align: top;\n",
       "    }\n",
       "\n",
       "    .dataframe thead th {\n",
       "        text-align: right;\n",
       "    }\n",
       "</style>\n",
       "<table border=\"1\" class=\"dataframe\">\n",
       "  <thead>\n",
       "    <tr style=\"text-align: right;\">\n",
       "      <th></th>\n",
       "      <th>Liga_Goals</th>\n",
       "      <th>Liga_Asts</th>\n",
       "      <th>Liga_Aps</th>\n",
       "      <th>Liga_Mins</th>\n",
       "      <th>CL_Goals</th>\n",
       "      <th>CL_Asts</th>\n",
       "      <th>CL_Aps</th>\n",
       "      <th>CL_Mins</th>\n",
       "    </tr>\n",
       "  </thead>\n",
       "  <tbody>\n",
       "    <tr>\n",
       "      <th>count</th>\n",
       "      <td>18.000000</td>\n",
       "      <td>18.000000</td>\n",
       "      <td>18.000000</td>\n",
       "      <td>18.000000</td>\n",
       "      <td>18.000000</td>\n",
       "      <td>18.000000</td>\n",
       "      <td>18.000000</td>\n",
       "      <td>18.000000</td>\n",
       "    </tr>\n",
       "    <tr>\n",
       "      <th>mean</th>\n",
       "      <td>35.555556</td>\n",
       "      <td>13.055556</td>\n",
       "      <td>33.388889</td>\n",
       "      <td>2840.833333</td>\n",
       "      <td>10.444444</td>\n",
       "      <td>3.388889</td>\n",
       "      <td>10.722222</td>\n",
       "      <td>936.777778</td>\n",
       "    </tr>\n",
       "    <tr>\n",
       "      <th>std</th>\n",
       "      <td>8.226372</td>\n",
       "      <td>4.491459</td>\n",
       "      <td>3.201817</td>\n",
       "      <td>321.289177</td>\n",
       "      <td>3.467873</td>\n",
       "      <td>2.226548</td>\n",
       "      <td>2.191039</td>\n",
       "      <td>208.341223</td>\n",
       "    </tr>\n",
       "    <tr>\n",
       "      <th>min</th>\n",
       "      <td>25.000000</td>\n",
       "      <td>5.000000</td>\n",
       "      <td>27.000000</td>\n",
       "      <td>2297.000000</td>\n",
       "      <td>6.000000</td>\n",
       "      <td>0.000000</td>\n",
       "      <td>6.000000</td>\n",
       "      <td>450.000000</td>\n",
       "    </tr>\n",
       "    <tr>\n",
       "      <th>25%</th>\n",
       "      <td>28.750000</td>\n",
       "      <td>11.000000</td>\n",
       "      <td>31.250000</td>\n",
       "      <td>2565.250000</td>\n",
       "      <td>8.000000</td>\n",
       "      <td>2.000000</td>\n",
       "      <td>10.000000</td>\n",
       "      <td>814.250000</td>\n",
       "    </tr>\n",
       "    <tr>\n",
       "      <th>50%</th>\n",
       "      <td>34.000000</td>\n",
       "      <td>12.500000</td>\n",
       "      <td>34.000000</td>\n",
       "      <td>2836.500000</td>\n",
       "      <td>10.000000</td>\n",
       "      <td>3.500000</td>\n",
       "      <td>11.000000</td>\n",
       "      <td>990.500000</td>\n",
       "    </tr>\n",
       "    <tr>\n",
       "      <th>75%</th>\n",
       "      <td>42.250000</td>\n",
       "      <td>15.500000</td>\n",
       "      <td>35.750000</td>\n",
       "      <td>3071.000000</td>\n",
       "      <td>12.000000</td>\n",
       "      <td>4.000000</td>\n",
       "      <td>12.000000</td>\n",
       "      <td>1076.000000</td>\n",
       "    </tr>\n",
       "    <tr>\n",
       "      <th>max</th>\n",
       "      <td>50.000000</td>\n",
       "      <td>21.000000</td>\n",
       "      <td>38.000000</td>\n",
       "      <td>3375.000000</td>\n",
       "      <td>17.000000</td>\n",
       "      <td>9.000000</td>\n",
       "      <td>13.000000</td>\n",
       "      <td>1200.000000</td>\n",
       "    </tr>\n",
       "  </tbody>\n",
       "</table>\n",
       "</div>"
      ],
      "text/plain": [
       "       Liga_Goals  Liga_Asts   Liga_Aps    Liga_Mins   CL_Goals    CL_Asts  \\\n",
       "count   18.000000  18.000000  18.000000    18.000000  18.000000  18.000000   \n",
       "mean    35.555556  13.055556  33.388889  2840.833333  10.444444   3.388889   \n",
       "std      8.226372   4.491459   3.201817   321.289177   3.467873   2.226548   \n",
       "min     25.000000   5.000000  27.000000  2297.000000   6.000000   0.000000   \n",
       "25%     28.750000  11.000000  31.250000  2565.250000   8.000000   2.000000   \n",
       "50%     34.000000  12.500000  34.000000  2836.500000  10.000000   3.500000   \n",
       "75%     42.250000  15.500000  35.750000  3071.000000  12.000000   4.000000   \n",
       "max     50.000000  21.000000  38.000000  3375.000000  17.000000   9.000000   \n",
       "\n",
       "          CL_Aps      CL_Mins  \n",
       "count  18.000000    18.000000  \n",
       "mean   10.722222   936.777778  \n",
       "std     2.191039   208.341223  \n",
       "min     6.000000   450.000000  \n",
       "25%    10.000000   814.250000  \n",
       "50%    11.000000   990.500000  \n",
       "75%    12.000000  1076.000000  \n",
       "max    13.000000  1200.000000  "
      ]
     },
     "execution_count": 19,
     "metadata": {},
     "output_type": "execute_result"
    }
   ],
   "source": [
    "#  .describe() performs some statistics like count, max, min, mean etc on the NUMERIC columns\n",
    "df.describe()"
   ]
  },
  {
   "cell_type": "markdown",
   "id": "62c66d07",
   "metadata": {},
   "source": [
    "# How to select a Subset of a Dataframe?"
   ]
  },
  {
   "cell_type": "markdown",
   "id": "5c437a3b",
   "metadata": {},
   "source": [
    "Print season-wise goals of each player in both Leagues"
   ]
  },
  {
   "cell_type": "code",
   "execution_count": 22,
   "id": "5356b70e",
   "metadata": {},
   "outputs": [
    {
     "name": "stdout",
     "output_type": "stream",
     "text": [
      "     Season   Player  Liga_Goals  CL_Goals\n",
      "0   2017-18    Messi          34         6\n",
      "1   2017-18  Ronaldo          26        15\n",
      "2   2016-17    Messi          37        11\n",
      "3   2016-17  Ronaldo          25        12\n",
      "4   2015-16    Messi          26         6\n",
      "5   2015-16  Ronaldo          35        16\n",
      "6   2014-15    Messi          43        10\n",
      "7   2014-15  Ronaldo          48        10\n",
      "8   2013-14    Messi          28         8\n",
      "9   2013-14  Ronaldo          31        17\n",
      "10  2012-13    Messi          46         8\n",
      "11  2012-13  Ronaldo          34        12\n",
      "12  2011-12    Messi          50        14\n",
      "13  2011-12  Ronaldo          46        10\n",
      "14  2010-11    Messi          31        12\n",
      "15  2010-11  Ronaldo          40         6\n",
      "16  2009-10    Messi          34         8\n",
      "17  2009-10  Ronaldo          26         7\n"
     ]
    }
   ],
   "source": [
    "goals = df[['Season','Player', 'Liga_Goals', 'CL_Goals']]\n",
    "print(goals)"
   ]
  },
  {
   "cell_type": "markdown",
   "id": "2797e519",
   "metadata": {},
   "source": [
    "How to filter specific rows from the Dataset"
   ]
  },
  {
   "cell_type": "code",
   "execution_count": 27,
   "id": "761eaebd",
   "metadata": {},
   "outputs": [
    {
     "name": "stdout",
     "output_type": "stream",
     "text": [
      "     Season Player  Liga_Goals  Liga_Asts  Liga_Aps  Liga_Mins  CL_Goals  \\\n",
      "0   2017-18  Messi          34         12        36       2996         6   \n",
      "2   2016-17  Messi          37          9        34       2832        11   \n",
      "4   2015-16  Messi          26         16        33       2729         6   \n",
      "6   2014-15  Messi          43         21        38       3375        10   \n",
      "8   2013-14  Messi          28         12        31       2498         8   \n",
      "10  2012-13  Messi          46         14        32       2629         8   \n",
      "12  2011-12  Messi          50         20        37       3270        14   \n",
      "14  2010-11  Messi          31         21        33       2862        12   \n",
      "16  2009-10  Messi          34         13        35       2841         8   \n",
      "\n",
      "    CL_Asts  CL_Aps  CL_Mins  \n",
      "0         2      10      783  \n",
      "2         2       9      810  \n",
      "4         1       7      630  \n",
      "6         6      13     1145  \n",
      "8         1       7      630  \n",
      "10        3      11      827  \n",
      "12        9      11      990  \n",
      "14        4      13     1050  \n",
      "16        0      11      985  \n"
     ]
    }
   ],
   "source": [
    "# Filtering out the Messi's Records\n",
    "messi = df[df['Player'] == 'Messi']\n",
    "print(messi)\n",
    "# NOTE:\n",
    "# df['Player'] == 'Ronaldo' It will return the BOOLEANS"
   ]
  },
  {
   "cell_type": "code",
   "execution_count": 28,
   "id": "26d82f05",
   "metadata": {},
   "outputs": [
    {
     "name": "stdout",
     "output_type": "stream",
     "text": [
      "     Season   Player  Liga_Goals  Liga_Asts  Liga_Aps  Liga_Mins  CL_Goals  \\\n",
      "1   2017-18  Ronaldo          26          5        27       2297        15   \n",
      "3   2016-17  Ronaldo          25          6        29       2544        12   \n",
      "5   2015-16  Ronaldo          35         11        36       3184        16   \n",
      "7   2014-15  Ronaldo          48         16        35       3096        10   \n",
      "9   2013-14  Ronaldo          31         11        30       2537        17   \n",
      "11  2012-13  Ronaldo          34         11        34       2716        12   \n",
      "13  2011-12  Ronaldo          46         13        38       3353        10   \n",
      "15  2010-11  Ronaldo          40         13        34       2914         6   \n",
      "17  2009-10  Ronaldo          26         11        29       2462         7   \n",
      "\n",
      "    CL_Asts  CL_Aps  CL_Mins  \n",
      "1         3      13     1170  \n",
      "3         5      13     1200  \n",
      "5         4      12     1109  \n",
      "7         4      12     1064  \n",
      "9         6      11      991  \n",
      "11        1      12     1080  \n",
      "13        4      10      930  \n",
      "15        4      12     1018  \n",
      "17        2       6      450  \n"
     ]
    }
   ],
   "source": [
    "# Filtering out the Ronaldo's Records\n",
    "ronaldo = df[df['Player'] == 'Ronaldo']\n",
    "print(ronaldo)\n",
    "# NOTE:\n",
    "# df['Player'] == 'Ronaldo' It will return the BOOLEANS"
   ]
  },
  {
   "cell_type": "markdown",
   "id": "593a2870",
   "metadata": {},
   "source": [
    "Total Goals scored by MESSI"
   ]
  },
  {
   "cell_type": "code",
   "execution_count": 34,
   "id": "2fbd8bfe",
   "metadata": {},
   "outputs": [
    {
     "data": {
      "text/plain": [
       "412"
      ]
     },
     "execution_count": 34,
     "metadata": {},
     "output_type": "execute_result"
    }
   ],
   "source": [
    "messi['Liga_Goals'].sum() + messi['CL_Goals'].sum()"
   ]
  },
  {
   "cell_type": "markdown",
   "id": "68aa5776",
   "metadata": {},
   "source": [
    "Total Goals scored by RONALDO"
   ]
  },
  {
   "cell_type": "code",
   "execution_count": 36,
   "id": "fca1e295",
   "metadata": {},
   "outputs": [
    {
     "data": {
      "text/plain": [
       "416"
      ]
     },
     "execution_count": 36,
     "metadata": {},
     "output_type": "execute_result"
    }
   ],
   "source": [
    "ronaldo['Liga_Goals'].sum() + ronaldo['CL_Goals'].sum()"
   ]
  },
  {
   "cell_type": "markdown",
   "id": "88aee16d",
   "metadata": {},
   "source": [
    "Total Number of Assists by MESSI"
   ]
  },
  {
   "cell_type": "code",
   "execution_count": 37,
   "id": "1092448f",
   "metadata": {},
   "outputs": [
    {
     "data": {
      "text/plain": [
       "166"
      ]
     },
     "execution_count": 37,
     "metadata": {},
     "output_type": "execute_result"
    }
   ],
   "source": [
    "messi['Liga_Asts'].sum() + messi['CL_Asts'].sum()"
   ]
  },
  {
   "cell_type": "markdown",
   "id": "c218e016",
   "metadata": {},
   "source": [
    "Total Number of Assists by RONALDO"
   ]
  },
  {
   "cell_type": "code",
   "execution_count": 38,
   "id": "90951a44",
   "metadata": {},
   "outputs": [
    {
     "data": {
      "text/plain": [
       "130"
      ]
     },
     "execution_count": 38,
     "metadata": {},
     "output_type": "execute_result"
    }
   ],
   "source": [
    "ronaldo['Liga_Asts'].sum() + ronaldo['CL_Asts'].sum()"
   ]
  },
  {
   "cell_type": "code",
   "execution_count": null,
   "id": "77c73d62",
   "metadata": {},
   "outputs": [],
   "source": []
  }
 ],
 "metadata": {
  "kernelspec": {
   "display_name": "Python 3 (ipykernel)",
   "language": "python",
   "name": "python3"
  },
  "language_info": {
   "codemirror_mode": {
    "name": "ipython",
    "version": 3
   },
   "file_extension": ".py",
   "mimetype": "text/x-python",
   "name": "python",
   "nbconvert_exporter": "python",
   "pygments_lexer": "ipython3",
   "version": "3.9.13"
  }
 },
 "nbformat": 4,
 "nbformat_minor": 5
}
